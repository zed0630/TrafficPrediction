{
 "cells": [
  {
   "cell_type": "code",
   "execution_count": 1,
   "metadata": {
    "scrolled": false
   },
   "outputs": [],
   "source": [
    "import numpy as np\n",
    "f = open('dataSets/training/trajectories(table 5)_training.csv').readlines()\n",
    "\n",
    "def sttime(daytime):\n",
    "    daytime = daytime.replace('/', '-')\n",
    "    day, dtime = daytime.split(' ')\n",
    "    m, d = day.split('-')[1:]\n",
    "    moffset = [0, 31, 62, 92, 123]\n",
    "    stt = (moffset[(int(m)-7)]+int(d)-1)*24\n",
    "    h, m, s = dtime.split(':')\n",
    "    stt = ((stt+int(h))*60+int(m))*60+int(s)\n",
    "    return stt\n",
    "#     return (((((int(daytime[5:7])-9)*30+int(daytime[8:10]))*24)+int(daytime[11:13]))*60+int(daytime[14:16]))*60+int(daytime[17:19])\n",
    "\n",
    "def clean_volume(f):\n",
    "    traffic_volume = []\n",
    "    attrInd = f[0].replace('\"\"', '-1').replace('\"', '').replace('\\n', '').split(',')\n",
    "    for i in f[1:]:\n",
    "        sdata = i.replace('\"\"', '-1').replace('\"', '').replace('\\n', '').split(',')\n",
    "        sdata[0] = sttime(sdata[0])\n",
    "        sdata[1:] = [int(j) for j in sdata[1:]]\n",
    "        traffic_volume.append(sdata)\n",
    "    return attrInd, traffic_volume\n",
    "\n",
    "def clean_trajectory(f):\n",
    "    traj = [] \n",
    "    roadlist = []\n",
    "    trajInd = f[0].replace('\"', '').replace('\\n', '').split(',')\n",
    "    for i in f[1:]:\n",
    "        sdata = i.replace('\"', '').replace('\\n', '').split(',')\n",
    "        if sdata[0]=='A':\n",
    "            sdata[0] = 1\n",
    "        elif sdata[0]=='B':\n",
    "            sdata[0] = 2\n",
    "        elif sdata[0]=='C':\n",
    "            sdata[0] = 3\n",
    "        sdata[1:3] = [int(j) for j in sdata[1:3]]\n",
    "        sdata[3] = sttime(sdata[3])\n",
    "#         sdata[4] = [[j.split('#')[0],sttime(j.split('#')[1])] for j in sdata[4].split(';')]\n",
    "        straj = []\n",
    "        for j in sdata[4].split(';'):\n",
    "            road, stime, ptime = j.split('#')\n",
    "            if road not in roadlist:\n",
    "                roadlist.append(road)\n",
    "            road = [i for i in range(len(roadlist)) if roadlist[i]==road][0]\n",
    "            stime = sttime(stime)\n",
    "            straj.append([road, stime, float(ptime)])\n",
    "        sdata[4] = straj\n",
    "        sdata[5] = float(sdata[5])\n",
    "        traj.append(sdata)\n",
    "    return trajInd, roadlist, traj\n",
    "\n",
    "def clean_weather(f):\n",
    "    weather = []\n",
    "    weatherInd = f[0].replace('\"', '').replace('\\n', '').split(',')\n",
    "    del weatherInd[0]\n",
    "    weatherInd[0]='time'\n",
    "    #print weatherInd\n",
    "    #print f[1].replace('\"', '').replace('\\n', '').split(',')\n",
    "    for i in f[1:]:\n",
    "        sdata = i.replace('\"', '').replace('\\n', '').split(',')\n",
    "        sdata[0] = sttime('%s %02d:%02d:%02d'%(sdata[0], int(sdata[1]), 0, 0))\n",
    "        del sdata[1]\n",
    "        sdata[1:] = [float(i) for i in sdata[1:]]\n",
    "        weather.append(sdata)\n",
    "    return weatherInd, weather\n",
    "\n",
    "\n"
   ]
  },
  {
   "cell_type": "code",
   "execution_count": 2,
   "metadata": {},
   "outputs": [
    {
     "name": "stdout",
     "output_type": "stream",
     "text": [
      "['intersection_id', 'tollgate_id', 'vehicle_id', 'starting_time', 'travel_seq', 'travel_time']\n"
     ]
    }
   ],
   "source": [
    "a,b,c = clean_trajectory(f)\n",
    "print(a)"
   ]
  },
  {
   "cell_type": "code",
   "execution_count": 3,
   "metadata": {},
   "outputs": [
    {
     "name": "stdout",
     "output_type": "stream",
     "text": [
      "[2, 3, 1065642, 1556064, [[0, 1556064, 9.56], [1, 1556074, 6.75], [2, 1556081, 13.0], [3, 1556094, 7.47], [4, 1556102, 32.85]], 70.85]\n"
     ]
    }
   ],
   "source": [
    "print(c[0])"
   ]
  },
  {
   "cell_type": "code",
   "execution_count": null,
   "metadata": {
    "collapsed": true
   },
   "outputs": [],
   "source": []
  }
 ],
 "metadata": {
  "kernelspec": {
   "display_name": "Python 2",
   "language": "python",
   "name": "python2"
  },
  "language_info": {
   "codemirror_mode": {
    "name": "ipython",
    "version": 2
   },
   "file_extension": ".py",
   "mimetype": "text/x-python",
   "name": "python",
   "nbconvert_exporter": "python",
   "pygments_lexer": "ipython2",
   "version": "2.7.6"
  }
 },
 "nbformat": 4,
 "nbformat_minor": 2
}
