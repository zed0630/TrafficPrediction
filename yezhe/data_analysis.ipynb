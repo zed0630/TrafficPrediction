{
 "cells": [
  {
   "cell_type": "code",
   "execution_count": 1,
   "metadata": {},
   "outputs": [
    {
     "name": "stdout",
     "output_type": "stream",
     "text": [
      "['2016-09-19', '2016-09-20', '2016-09-21', '2016-09-22', '2016-09-23', '2016-09-24', '2016-09-25', '2016-09-26', '2016-09-27', '2016-09-28', '2016-09-29', '2016-09-30', '2016-10-01', '2016-10-02', '2016-10-03', '2016-10-04', '2016-10-05', '2016-10-06', '2016-10-07', '2016-10-08', '2016-10-09', '2016-10-10', '2016-10-11', '2016-10-12', '2016-10-13', '2016-10-14', '2016-10-15', '2016-10-16', '2016-10-17']\n"
     ]
    }
   ],
   "source": [
    "import csv\n",
    "from datetime import datetime\n",
    "from datetime import timedelta\n",
    "import matplotlib.pyplot as plt\n",
    "import numpy as np\n",
    "import os\n",
    "fmt = \"%Y-%m-%d %X\"\n",
    "cases = {}\n",
    "days=[]\n",
    "with open('../scripts/training_20min_avg_volume.csv') as f:\n",
    "    f.readline()\n",
    "    reader = csv.reader(f)\n",
    "    for row in reader:\n",
    "        start_time = row[1].split(',')[0][1:]\n",
    "        day = start_time.split()[0]\n",
    "        if day not in days:\n",
    "            days.append(day)\n",
    "        index = row[0]+'-'+row[2]+'-'+start_time\n",
    "        cases[index]=float(row[3])\n",
    "print(days)"
   ]
  },
  {
   "cell_type": "code",
   "execution_count": 2,
   "metadata": {},
   "outputs": [],
   "source": [
    "datetime_delta = timedelta(minutes=20)\n",
    "x=[]\n",
    "for i in range(72):\n",
    "    x.append(i)\n",
    "try:\n",
    "    os.makedirs('../data/figures')\n",
    "except BaseException as e:\n",
    "    print(e)\n",
    "for id in range(1,4):\n",
    "    for dir in range(0,2):\n",
    "        for day in days:\n",
    "            periods = np.zeros([72])\n",
    "            curr_datetime = datetime.strptime(day+' 00:20:00',fmt)\n",
    "            for i in range(72):\n",
    "                index = str(id)+'-'+str(dir)+'-'+curr_datetime.strftime(fmt)\n",
    "                curr_datetime += datetime_delta\n",
    "                if index in cases:\n",
    "                    periods[i] = cases[index]                    \n",
    "            plt.figure()\n",
    "            plt.plot(x[:18],periods[:18],'b')\n",
    "            plt.plot(x[17:24],periods[17:24],'g')\n",
    "            plt.plot(x[23:30],periods[23:30],'r')\n",
    "            plt.plot(x[29:45],periods[29:45],'b')\n",
    "            plt.plot(x[44:51],periods[44:51],'g')\n",
    "            plt.plot(x[50:57],periods[50:57],'r')\n",
    "            plt.plot(x[56:],periods[56:],'b')\n",
    "            plt.savefig('../data/figures/'+str(id)+'-'+str(dir)+'-'+day+\".png\",dpi=600)\n",
    "            plt.close()"
   ]
  }
 ],
 "metadata": {
  "kernelspec": {
   "display_name": "Python 2",
   "language": "python",
   "name": "python2"
  },
  "language_info": {
   "codemirror_mode": {
    "name": "ipython",
    "version": 2
   },
   "file_extension": ".py",
   "mimetype": "text/x-python",
   "name": "python",
   "nbconvert_exporter": "python",
   "pygments_lexer": "ipython2",
   "version": "2.7.6"
  }
 },
 "nbformat": 4,
 "nbformat_minor": 2
}
