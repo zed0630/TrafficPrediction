{
 "cells": [
  {
   "cell_type": "code",
   "execution_count": 1,
   "metadata": {
    "collapsed": true
   },
   "outputs": [],
   "source": [
    "import csv\n",
    "from datetime import datetime\n",
    "from datetime import timedelta\n",
    "import matplotlib.pyplot as plt\n",
    "import numpy as np\n",
    "import os\n",
    "def MAPE(true_result,pred_result):\n",
    "    return np.average(np.abs(pred_result-true_result)/true_result)\n",
    "fmt = \"%Y-%m-%d %X\"\n",
    "datetime_delta = timedelta(minutes=20)"
   ]
  },
  {
   "cell_type": "markdown",
   "metadata": {},
   "source": [
    "# Set the files"
   ]
  },
  {
   "cell_type": "code",
   "execution_count": 2,
   "metadata": {
    "collapsed": true
   },
   "outputs": [],
   "source": [
    "dev_files = ['result/res_phase1_MultiTaskLasso_0.15.csv',\n",
    "             'result/res_phase1_MultiTaskElasticNet_0.147.csv',\n",
    "             'result/res_phase1_SVR_0.147.csv',\n",
    "             'result/phase1_submission.csv']\n",
    "ensemble_files = ['result/res_phase2_MultiTaskLasso.csv',\n",
    "                  'result/res_phase2_MultiTaskElasticNet.csv',\n",
    "                  'result/res_phase2_SVR.csv',\n",
    "                  'result/phase2_submission.csv']"
   ]
  },
  {
   "cell_type": "markdown",
   "metadata": {},
   "source": [
    "# Read pred results"
   ]
  },
  {
   "cell_type": "code",
   "execution_count": 3,
   "metadata": {
    "collapsed": true
   },
   "outputs": [],
   "source": [
    "results = []\n",
    "days = []\n",
    "for dev_file in dev_files:\n",
    "    cases = {}\n",
    "    days = []\n",
    "    with open(dev_file) as f:\n",
    "        f.readline()\n",
    "        reader = csv.reader(f)\n",
    "        for row in reader:\n",
    "            start_time = row[1].split(',')[0][1:]\n",
    "            day = start_time.split()[0]\n",
    "            if day not in days:\n",
    "                days.append(day)\n",
    "            index = row[0]+'-'+row[2]+'-'+start_time\n",
    "            cases[index]=float(row[3])\n",
    "    result = []\n",
    "    for id in range(1,4):\n",
    "        for dir in range(0,2):\n",
    "            if id == 2 and dir ==1:\n",
    "                break;\n",
    "            for day in days:\n",
    "                periods = np.zeros([72])\n",
    "                curr_datetime = datetime.strptime(day+' 00:20:00',fmt)\n",
    "                for i in range(72):\n",
    "                    index = str(id)+'-'+str(dir)+'-'+curr_datetime.strftime(fmt)\n",
    "                    curr_datetime += datetime_delta\n",
    "                    if index in cases:\n",
    "                        periods[i] = cases[index]\n",
    "                for i in range(23,29):\n",
    "                    result.append(periods[i])\n",
    "                for i in range(50,56):\n",
    "                    result.append(periods[i])\n",
    "    results.append(np.array(result))"
   ]
  },
  {
   "cell_type": "markdown",
   "metadata": {},
   "source": [
    "# Read ground-truth from data"
   ]
  },
  {
   "cell_type": "code",
   "execution_count": 4,
   "metadata": {
    "collapsed": true
   },
   "outputs": [],
   "source": [
    "train_cases = {}\n",
    "train_days = []\n",
    "with open('data/training2_20min_avg_volume.csv') as f:\n",
    "    f.readline()\n",
    "    reader = csv.reader(f)\n",
    "    for row in reader:\n",
    "        start_time = row[1].split(',')[0][1:]\n",
    "        day = start_time.split()[0]\n",
    "        if day not in train_days:\n",
    "            train_days.append(day)\n",
    "        index = row[0]+'-'+row[2]+'-'+start_time\n",
    "        train_cases[index]=float(row[3])\n",
    "true_result = []\n",
    "for id in range(1,4):\n",
    "    for dir in range(0,2):\n",
    "        if id == 2 and dir ==1:\n",
    "            break;\n",
    "        for day in days:\n",
    "            periods = np.zeros([72])\n",
    "            curr_datetime = datetime.strptime(day+' 00:20:00',fmt)\n",
    "            for i in range(72):\n",
    "                index = str(id)+'-'+str(dir)+'-'+curr_datetime.strftime(fmt)\n",
    "                curr_datetime += datetime_delta\n",
    "                if index in train_cases:\n",
    "                    periods[i] = train_cases[index]\n",
    "            for i in range(23,29):\n",
    "                true_result.append(periods[i])\n",
    "            for i in range(50,56):\n",
    "                true_result.append(periods[i])"
   ]
  },
  {
   "cell_type": "markdown",
   "metadata": {},
   "source": [
    "# print the MAPE of each model in phase1_test"
   ]
  },
  {
   "cell_type": "code",
   "execution_count": 5,
   "metadata": {},
   "outputs": [
    {
     "name": "stdout",
     "output_type": "stream",
     "text": [
      "0.150271873677\n",
      "0.147482319893\n",
      "0.147473356541\n",
      "0.282405937004\n"
     ]
    }
   ],
   "source": [
    "for result in results:\n",
    "    print(MAPE(true_result,result))"
   ]
  },
  {
   "cell_type": "markdown",
   "metadata": {},
   "source": [
    "# find the best weight"
   ]
  },
  {
   "cell_type": "code",
   "execution_count": 6,
   "metadata": {},
   "outputs": [
    {
     "name": "stdout",
     "output_type": "stream",
     "text": [
      "(0.13913490633336767, array([ 0.29,  0.19,  0.42,  0.1 ]))\n"
     ]
    }
   ],
   "source": [
    "def find_best_weight(weight,i,results,true_result,step=0.01):\n",
    "    best_mape = 1.0\n",
    "    best_weight = np.array(weight)\n",
    "    if i == len(results)-1:\n",
    "        weight[-1]=1-np.sum(weight[:-1])\n",
    "        pred = np.zeros(results[0].shape)\n",
    "        for w,p in zip(weight,results):\n",
    "            pred += w*p\n",
    "        return MAPE(true_result,pred),weight\n",
    "    else:\n",
    "        rest = np.sum(weight[:i])\n",
    "        while weight[i]<= 1-rest:\n",
    "            mape,curr_weight = find_best_weight(np.array(weight),i+1,results,true_result)\n",
    "            if mape < best_mape:\n",
    "                best_weight = np.array(curr_weight)\n",
    "                best_mape = mape\n",
    "            weight[i]+=step\n",
    "    return best_mape,best_weight\n",
    "weight = np.zeros(len(results))\n",
    "weight[-1] = 1\n",
    "mape,weight = find_best_weight(weight,0,results,true_result)\n",
    "print(mape,weight)"
   ]
  },
  {
   "cell_type": "code",
   "execution_count": 7,
   "metadata": {
    "collapsed": true
   },
   "outputs": [],
   "source": [
    "preds = []\n",
    "for ensemble_file in ensemble_files:\n",
    "    cases = {}\n",
    "    days = []\n",
    "    with open(ensemble_file) as f:\n",
    "        f.readline()\n",
    "        reader = csv.reader(f)\n",
    "        for row in reader:\n",
    "            start_time = row[1].split(',')[0][1:]\n",
    "            day = start_time.split()[0]\n",
    "            if day not in days:\n",
    "                days.append(day)\n",
    "            index = row[0]+'-'+row[2]+'-'+start_time\n",
    "            cases[index]=float(row[3])\n",
    "    pred = []\n",
    "    for id in range(1,4):\n",
    "        for dir in range(0,2):\n",
    "            if id == 2 and dir ==1:\n",
    "                break;\n",
    "            for day in days:\n",
    "                periods = np.zeros([72])\n",
    "                curr_datetime = datetime.strptime(day+' 00:20:00',fmt)\n",
    "                for i in range(72):\n",
    "                    index = str(id)+'-'+str(dir)+'-'+curr_datetime.strftime(fmt)\n",
    "                    curr_datetime += datetime_delta\n",
    "                    if index in cases:\n",
    "                        periods[i] = cases[index]\n",
    "                for i in range(23,29):\n",
    "                    pred.append(periods[i])\n",
    "                for i in range(50,56):\n",
    "                    pred.append(periods[i])\n",
    "    preds.append(np.array(pred))\n",
    "output = open('result/submission.csv','w')\n",
    "output.write('tollgate_id,time_window,direction,volume\\n')\n",
    "ensemble_pred = np.zeros(preds[0].shape)\n",
    "for w,p in zip(weight,preds):\n",
    "    ensemble_pred += w*p\n",
    "i = 0\n",
    "for id in range(1,4):\n",
    "    for dir in range(0,2):\n",
    "        if id == 2 and dir ==1:\n",
    "            break;\n",
    "        for day in days:\n",
    "            for k in range(23,29):\n",
    "                begin_datetime = datetime.strptime(day+' 00:20:00',fmt)+k*datetime_delta\n",
    "                end_datetime = begin_datetime+datetime_delta\n",
    "                result = \"%d,\\\"[%s,%s)\\\",%d,%f\\n\" %(id,begin_datetime.strftime(fmt),end_datetime.strftime(fmt),dir,ensemble_pred[i])\n",
    "                output.write(result)\n",
    "                i+=1\n",
    "            for k in range(50,56):\n",
    "                begin_datetime = datetime.strptime(day+' 00:20:00',fmt)+k*datetime_delta\n",
    "                end_datetime = begin_datetime+datetime_delta\n",
    "                result = \"%d,\\\"[%s,%s)\\\",%d,%f\\n\" %(id,begin_datetime.strftime(fmt),end_datetime.strftime(fmt),dir,ensemble_pred[i])\n",
    "                output.write(result)\n",
    "                i+=1\n",
    "output.close()"
   ]
  }
 ],
 "metadata": {
  "kernelspec": {
   "display_name": "Python 2",
   "language": "python",
   "name": "python2"
  },
  "language_info": {
   "codemirror_mode": {
    "name": "ipython",
    "version": 2
   },
   "file_extension": ".py",
   "mimetype": "text/x-python",
   "name": "python",
   "nbconvert_exporter": "python",
   "pygments_lexer": "ipython2",
   "version": "2.7.6"
  }
 },
 "nbformat": 4,
 "nbformat_minor": 2
}
