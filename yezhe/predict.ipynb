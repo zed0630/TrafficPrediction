{
 "cells": [
  {
   "cell_type": "code",
   "execution_count": 1,
   "metadata": {
    "collapsed": true
   },
   "outputs": [],
   "source": [
    "import csv\n",
    "from datetime import datetime\n",
    "from datetime import timedelta\n",
    "import matplotlib.pyplot as plt\n",
    "import numpy as np\n",
    "import os\n",
    "fmt = \"%Y-%m-%d %X\"\n",
    "datetime_delta = timedelta(minutes=20)\n",
    "train_cases = {}\n",
    "train_days = []\n",
    "with open('training2_20min_avg_volume.csv') as f:\n",
    "    f.readline()\n",
    "    reader = csv.reader(f)\n",
    "    for row in reader:\n",
    "        start_time = row[1].split(',')[0][1:]\n",
    "        day = start_time.split()[0]\n",
    "        if day not in train_days:\n",
    "            train_days.append(day)\n",
    "        index = row[0]+'-'+row[2]+'-'+start_time\n",
    "        train_cases[index]=float(row[3])\n",
    "\n",
    "cases = {}\n",
    "days=[]\n",
    "with open('test1_20min_avg_volume.csv') as f:\n",
    "    f.readline()\n",
    "    reader = csv.reader(f)\n",
    "    for row in reader:\n",
    "        start_time = row[1].split(',')[0][1:]\n",
    "        day = start_time.split()[0]\n",
    "        if day not in days:\n",
    "            days.append(day)\n",
    "        index = row[0]+'-'+row[2]+'-'+start_time\n",
    "        cases[index]=float(row[3])"
   ]
  },
  {
   "cell_type": "code",
   "execution_count": null,
   "metadata": {
    "collapsed": true
   },
   "outputs": [],
   "source": [
    "true_result = []\n",
    "for id in range(1,4):\n",
    "    for dir in range(0,2):\n",
    "        if id == 2 and dir ==1:\n",
    "            break;\n",
    "        for day in days:\n",
    "            periods = np.zeros([72])\n",
    "            curr_datetime = datetime.strptime(day+' 00:20:00',fmt)\n",
    "            for i in range(72):\n",
    "                index = str(id)+'-'+str(dir)+'-'+curr_datetime.strftime(fmt)\n",
    "                curr_datetime += datetime_delta\n",
    "                if index in train_cases:\n",
    "                    periods[i] = train_cases[index]\n",
    "            for i in range(23,29):\n",
    "                true_result.append(periods[i])\n",
    "            for i in range(50,56):\n",
    "                true_result.append(periods[i])"
   ]
  },
  {
   "cell_type": "code",
   "execution_count": null,
   "metadata": {
    "collapsed": true
   },
   "outputs": [],
   "source": [
    "m = 35.0\n",
    "step = 0.05\n",
    "best_mape = 1.0\n",
    "best_m = m\n",
    "while m<40.0:\n",
    "    output = open('submission.csv','w')\n",
    "    output.write('tollgate_id,time_window,direction,volume\\n')\n",
    "    predict_result = []\n",
    "    for id in range(1,4):\n",
    "        for dir in range(0,2):\n",
    "            if id == 2 and dir ==1:\n",
    "                break\n",
    "            for day in days:\n",
    "                periods = np.zeros([72])\n",
    "                curr_datetime = datetime.strptime(day+' 00:20:00',fmt)\n",
    "                for i in range(72):\n",
    "                    index = str(id)+'-'+str(dir)+'-'+curr_datetime.strftime(fmt)\n",
    "                    curr_datetime += datetime_delta\n",
    "                    if index in cases:\n",
    "                        periods[i] = cases[index]\n",
    "                x_train = np.array([[i,periods[i]] for i in range(17,23)])\n",
    "                x_train[:,0]=x_train[:,0]-m\n",
    "                x_train[:,0]=np.square(x_train[:,0])\n",
    "                a,b=np.polyfit(x_train[:,0],x_train[:,1],1)\n",
    "                x_test = np.array([23,24,25,26,27,28])\n",
    "                y_test = a*np.square(x_test-m)+b\n",
    "                for i in range(6):\n",
    "                    begin_datetime = datetime.strptime(day+' 08:00:00',fmt)+i*datetime_delta\n",
    "                    end_datetime = begin_datetime+datetime_delta\n",
    "                    result = \"%d,\\\"[%s,%s)\\\",%d,%f\\n\" %(id,begin_datetime.strftime(fmt),end_datetime.strftime(fmt),dir,y_test[i])\n",
    "                    output.write(result)\n",
    "                    predict_result.append(y_test[i])\n",
    "\n",
    "                x_train = np.array([[i,periods[i]] for i in range(17,23)]+[[i,periods[i]] for i in range(44,50)])\n",
    "                x_train[:,0]=x_train[:,0]-m\n",
    "                x_train[:,0]=np.square(x_train[:,0])\n",
    "                a,b=np.polyfit(x_train[:,0],x_train[:,1],1)\n",
    "                x_test = np.array([50,51,52,53,54,55])\n",
    "                y_test = a*np.square(x_test-m)+b\n",
    "                for i in range(6):\n",
    "                    begin_datetime = datetime.strptime(day+' 17:00:00',fmt)+i*datetime_delta\n",
    "                    end_datetime = begin_datetime+datetime_delta\n",
    "                    result = \"%d,\\\"[%s,%s)\\\",%d,%f\\n\" %(id,begin_datetime.strftime(fmt),end_datetime.strftime(fmt),dir,y_test[i])\n",
    "                    output.write(result)\n",
    "                    predict_result.append(y_test[i])\n",
    "    output.close()\n",
    "    predict_result = np.array(predict_result)\n",
    "    true_result = np.array(true_result)\n",
    "    MAPE = np.average(np.abs(true_result-predict_result)/true_result)\n",
    "    if MAPE < best_mape:\n",
    "        best_mape = MAPE\n",
    "        best_m = m\n",
    "    m += step"
   ]
  },
  {
   "cell_type": "code",
   "execution_count": null,
   "metadata": {
    "collapsed": true
   },
   "outputs": [],
   "source": [
    "print(best_mape,best_m)"
   ]
  },
  {
   "cell_type": "code",
   "execution_count": 2,
   "metadata": {
    "collapsed": true
   },
   "outputs": [],
   "source": [
    "m = 36\n",
    "output = open('phase1_submission.csv','w')\n",
    "output.write('tollgate_id,time_window,direction,volume\\n')\n",
    "predict_result = []\n",
    "for id in range(1,4):\n",
    "    for dir in range(0,2):\n",
    "        if id == 2 and dir ==1:\n",
    "            break\n",
    "        for day in days:\n",
    "            periods = np.zeros([72])\n",
    "            curr_datetime = datetime.strptime(day+' 00:20:00',fmt)\n",
    "            for i in range(72):\n",
    "                index = str(id)+'-'+str(dir)+'-'+curr_datetime.strftime(fmt)\n",
    "                curr_datetime += datetime_delta\n",
    "                if index in cases:\n",
    "                    periods[i] = cases[index]\n",
    "            x_train = np.array([[i,periods[i]] for i in range(17,23)])\n",
    "            x_train[:,0]=x_train[:,0]-m\n",
    "            x_train[:,0]=np.square(x_train[:,0])\n",
    "            a,b=np.polyfit(x_train[:,0],x_train[:,1],1)\n",
    "            x_test = np.array([23,24,25,26,27,28])\n",
    "            y_test = a*np.square(x_test-m)+b\n",
    "            for i in range(6):\n",
    "                begin_datetime = datetime.strptime(day+' 08:00:00',fmt)+i*datetime_delta\n",
    "                end_datetime = begin_datetime+datetime_delta\n",
    "                result = \"%d,\\\"[%s,%s)\\\",%d,%f\\n\" %(id,begin_datetime.strftime(fmt),end_datetime.strftime(fmt),dir,y_test[i])\n",
    "                output.write(result)\n",
    "                predict_result.append(y_test[i])\n",
    "\n",
    "            x_train = np.array([[i,periods[i]] for i in range(17,23)]+[[i,periods[i]] for i in range(44,50)])\n",
    "            x_train[:,0]=x_train[:,0]-m\n",
    "            x_train[:,0]=np.square(x_train[:,0])\n",
    "            a,b=np.polyfit(x_train[:,0],x_train[:,1],1)\n",
    "            x_test = np.array([50,51,52,53,54,55])\n",
    "            y_test = a*np.square(x_test-m)+b\n",
    "            for i in range(6):\n",
    "                begin_datetime = datetime.strptime(day+' 17:00:00',fmt)+i*datetime_delta\n",
    "                end_datetime = begin_datetime+datetime_delta\n",
    "                result = \"%d,\\\"[%s,%s)\\\",%d,%f\\n\" %(id,begin_datetime.strftime(fmt),end_datetime.strftime(fmt),dir,y_test[i])\n",
    "                output.write(result)\n",
    "                predict_result.append(y_test[i])\n",
    "output.close()"
   ]
  },
  {
   "cell_type": "code",
   "execution_count": null,
   "metadata": {
    "collapsed": true
   },
   "outputs": [],
   "source": []
  }
 ],
 "metadata": {
  "kernelspec": {
   "display_name": "Python 2",
   "language": "python",
   "name": "python2"
  },
  "language_info": {
   "codemirror_mode": {
    "name": "ipython",
    "version": 2
   },
   "file_extension": ".py",
   "mimetype": "text/x-python",
   "name": "python",
   "nbconvert_exporter": "python",
   "pygments_lexer": "ipython2",
   "version": "2.7.6"
  }
 },
 "nbformat": 4,
 "nbformat_minor": 2
}
